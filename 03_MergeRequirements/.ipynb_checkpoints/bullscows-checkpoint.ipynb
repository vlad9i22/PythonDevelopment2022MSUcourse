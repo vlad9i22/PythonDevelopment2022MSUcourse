{
 "cells": [
  {
   "cell_type": "code",
   "execution_count": 17,
   "id": "inappropriate-family",
   "metadata": {},
   "outputs": [],
   "source": [
    "from typing import List\n",
    "from textdistance import Hamming\n",
    "from textdistance import Bag"
   ]
  },
  {
   "cell_type": "code",
   "execution_count": 18,
   "id": "seventh-marketplace",
   "metadata": {},
   "outputs": [],
   "source": [
    "def bullscows(guess: str, secret: str) -> (int, int):\n",
    "    bulls = guess.size() - Hamming()\n",
    "    cows = "
   ]
  },
  {
   "cell_type": "code",
   "execution_count": 19,
   "id": "intellectual-synthetic",
   "metadata": {},
   "outputs": [],
   "source": [
    "def gameplay(ask: callable, inform: callable, words: List[str]) -> int:\n",
    "    pass"
   ]
  },
  {
   "cell_type": "code",
   "execution_count": null,
   "id": "august-stick",
   "metadata": {},
   "outputs": [],
   "source": []
  }
 ],
 "metadata": {
  "kernelspec": {
   "display_name": "Python 3 (ipykernel)",
   "language": "python",
   "name": "python3"
  },
  "language_info": {
   "codemirror_mode": {
    "name": "ipython",
    "version": 3
   },
   "file_extension": ".py",
   "mimetype": "text/x-python",
   "name": "python",
   "nbconvert_exporter": "python",
   "pygments_lexer": "ipython3",
   "version": "3.7.11"
  }
 },
 "nbformat": 4,
 "nbformat_minor": 5
}
