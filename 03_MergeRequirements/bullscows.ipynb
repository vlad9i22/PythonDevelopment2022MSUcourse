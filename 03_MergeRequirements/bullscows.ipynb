{
 "cells": [
  {
   "cell_type": "code",
   "execution_count": 68,
   "id": "inappropriate-family",
   "metadata": {},
   "outputs": [],
   "source": [
    "from typing import List\n",
    "from textdistance import Hamming\n",
    "from textdistance import bag"
   ]
  },
  {
   "cell_type": "code",
   "execution_count": 69,
   "id": "seventh-marketplace",
   "metadata": {},
   "outputs": [],
   "source": [
    "def bullscows(guess: str, secret: str) -> (int, int):\n",
    "    l = len(guess)\n",
    "    bulls = l - Hamming(qval=2).distance(guess, secret[0:l])\n",
    "    cows = max(0, l - bag(guess, secret[0:l]) - bulls)\n",
    "    return (bulls, cows)"
   ]
  },
  {
   "cell_type": "code",
   "execution_count": 74,
   "id": "89d26396",
   "metadata": {},
   "outputs": [],
   "source": [
    "def ask(prompt: str, valid: List[str] = None) -> str:\n",
    "    print(prompt)\n",
    "    inp = str(input())\n",
    "    if valid is None:\n",
    "        return inp\n",
    "    else:\n",
    "        while inp not in valid:\n",
    "            print(prompt)\n",
    "            inp = str(input())\n",
    "    return inp"
   ]
  },
  {
   "cell_type": "code",
   "execution_count": 75,
   "id": "intellectual-synthetic",
   "metadata": {},
   "outputs": [],
   "source": [
    "def gameplay(ask: callable, inform: callable, words: List[str]) -> int:\n",
    "    pass"
   ]
  },
  {
   "cell_type": "code",
   "execution_count": null,
   "id": "74b7cce4",
   "metadata": {},
   "outputs": [],
   "source": []
  }
 ],
 "metadata": {
  "kernelspec": {
   "display_name": "Python 3 (ipykernel)",
   "language": "python",
   "name": "python3"
  },
  "language_info": {
   "codemirror_mode": {
    "name": "ipython",
    "version": 3
   },
   "file_extension": ".py",
   "mimetype": "text/x-python",
   "name": "python",
   "nbconvert_exporter": "python",
   "pygments_lexer": "ipython3",
   "version": "3.7.11"
  }
 },
 "nbformat": 4,
 "nbformat_minor": 5
}
