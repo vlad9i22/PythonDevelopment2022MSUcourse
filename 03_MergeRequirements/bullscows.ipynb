{
 "cells": [
  {
   "cell_type": "code",
   "execution_count": 38,
   "id": "inappropriate-family",
   "metadata": {},
   "outputs": [],
   "source": [
    "from typing import List\n",
    "from textdistance import Hamming\n",
    "from textdistance import bag"
   ]
  },
  {
   "cell_type": "code",
   "execution_count": 46,
   "id": "seventh-marketplace",
   "metadata": {},
   "outputs": [],
   "source": [
    "def bullscows(guess: str, secret: str) -> (int, int):\n",
    "    l = len(guess)\n",
    "    bulls = l - Hamming(qval=2).distance(guess, secret[0:l])\n",
    "    cows = max(0, bag(guess, secret[0:l]) - bulls)\n",
    "    return (bulls, cows)"
   ]
  },
  {
   "cell_type": "code",
   "execution_count": 47,
   "id": "intellectual-synthetic",
   "metadata": {},
   "outputs": [],
   "source": [
    "def gameplay(ask: callable, inform: callable, words: List[str]) -> int:\n",
    "    pass"
   ]
  },
  {
   "cell_type": "code",
   "execution_count": 48,
   "id": "august-stick",
   "metadata": {},
   "outputs": [
    {
     "data": {
      "text/plain": [
       "(1, 0)"
      ]
     },
     "execution_count": 48,
     "metadata": {},
     "output_type": "execute_result"
    }
   ],
   "source": [
    "bullscows(\"3219\", \"2310\")"
   ]
  },
  {
   "cell_type": "code",
   "execution_count": 49,
   "id": "30507800",
   "metadata": {},
   "outputs": [
    {
     "data": {
      "text/plain": [
       "1"
      ]
     },
     "execution_count": 49,
     "metadata": {},
     "output_type": "execute_result"
    }
   ],
   "source": [
    "bag(\"3219\", \"2310\")"
   ]
  },
  {
   "cell_type": "code",
   "execution_count": null,
   "id": "498e2c77",
   "metadata": {},
   "outputs": [],
   "source": []
  }
 ],
 "metadata": {
  "kernelspec": {
   "display_name": "Python 3 (ipykernel)",
   "language": "python",
   "name": "python3"
  },
  "language_info": {
   "codemirror_mode": {
    "name": "ipython",
    "version": 3
   },
   "file_extension": ".py",
   "mimetype": "text/x-python",
   "name": "python",
   "nbconvert_exporter": "python",
   "pygments_lexer": "ipython3",
   "version": "3.7.11"
  }
 },
 "nbformat": 4,
 "nbformat_minor": 5
}
