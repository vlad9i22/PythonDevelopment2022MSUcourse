{
 "cells": [
  {
   "cell_type": "code",
   "execution_count": 97,
   "id": "inappropriate-family",
   "metadata": {},
   "outputs": [],
   "source": [
    "from typing import List\n",
    "from textdistance import Hamming\n",
    "from textdistance import bag\n",
    "from numpy.random import randint"
   ]
  },
  {
   "cell_type": "code",
   "execution_count": 98,
   "id": "seventh-marketplace",
   "metadata": {},
   "outputs": [],
   "source": [
    "def bullscows(guess: str, secret: str) -> (int, int):\n",
    "    l = len(guess)\n",
    "    bulls = l - Hamming(qval=2).distance(guess, secret[0:l])\n",
    "    cows = max(0, l - bag(guess, secret[0:l]) - bulls)\n",
    "    return (bulls, cows)"
   ]
  },
  {
   "cell_type": "code",
   "execution_count": 99,
   "id": "b6699874",
   "metadata": {},
   "outputs": [],
   "source": [
    "def ask(prompt: str, valid: List[str] = None) -> str:\n",
    "    print(prompt)\n",
    "    inp = str(input())\n",
    "    if valid is None:\n",
    "        return inp\n",
    "    else:\n",
    "        while inp not in valid:\n",
    "            print(prompt)\n",
    "            inp = str(input())\n",
    "    return inp"
   ]
  },
  {
   "cell_type": "code",
   "execution_count": 100,
   "id": "853aaae4",
   "metadata": {},
   "outputs": [],
   "source": [
    "def inform(format_string: str, bulls: int, cows: int) -> None:\n",
    "    print(format_string.format(bulls, cows))"
   ]
  },
  {
   "cell_type": "code",
   "execution_count": 101,
   "id": "intellectual-synthetic",
   "metadata": {},
   "outputs": [],
   "source": [
    "def gameplay(ask: callable, inform: callable, words: List[str]) -> int:\n",
    "    secret = words[randint(0, len(words))]\n",
    "    num_ask = 0\n",
    "    while 1:\n",
    "        secret_len = len(secret)\n",
    "        guess = ask(\"Введите слово: \", words)\n",
    "        num_ask += 1\n",
    "        bulls, cows = bullscows(guess, secret)\n",
    "        inform(\"Быки: {}, Коровы: {}\", bulls, cows)\n",
    "        if bulls == secret_len:\n",
    "            return num_ask"
   ]
  },
  {
   "cell_type": "code",
   "execution_count": null,
   "id": "2aae3331",
   "metadata": {},
   "outputs": [],
   "source": []
  }
 ],
 "metadata": {
  "kernelspec": {
   "display_name": "Python 3 (ipykernel)",
   "language": "python",
   "name": "python3"
  },
  "language_info": {
   "codemirror_mode": {
    "name": "ipython",
    "version": 3
   },
   "file_extension": ".py",
   "mimetype": "text/x-python",
   "name": "python",
   "nbconvert_exporter": "python",
   "pygments_lexer": "ipython3",
   "version": "3.7.11"
  }
 },
 "nbformat": 4,
 "nbformat_minor": 5
}
